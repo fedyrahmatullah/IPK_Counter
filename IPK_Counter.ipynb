{
 "cells": [
  {
   "cell_type": "markdown",
   "metadata": {},
   "source": [
    "# IPK Counter / GPA Counter"
   ]
  },
  {
   "cell_type": "markdown",
   "metadata": {},
   "source": [
    "This application is made to calculate a student's GPA score each semester and the student's total GPA scores. Currently this application is only in accordance with the GPA value at the State Polytechnic of Jember."
   ]
  },
  {
   "cell_type": "code",
   "execution_count": 1,
   "metadata": {},
   "outputs": [
    {
     "name": "stdout",
     "output_type": "stream",
     "text": [
      "Masukkan nama anda: Fedy Rahmatullah\n",
      "Masukkan Jumlah Semester Anda : 8\n",
      "Nilai mutu semester ke - 1: 74\n",
      "jumlah SKS Semester ke - 1: 20\n",
      "IPK : 3.70\n",
      "Nilai mutu semester ke - 2: 77\n",
      "jumlah SKS Semester ke - 2: 20\n",
      "IPK : 3.85\n",
      "Nilai mutu semester ke - 3: 69\n",
      "jumlah SKS Semester ke - 3: 18\n",
      "IPK : 3.83\n",
      "Nilai mutu semester ke - 4: 71.5\n",
      "jumlah SKS Semester ke - 4: 19\n",
      "IPK : 3.76\n",
      "Nilai mutu semester ke - 5: 71\n",
      "jumlah SKS Semester ke - 5: 20\n",
      "IPK : 3.55\n",
      "Nilai mutu semester ke - 6: 75\n",
      "jumlah SKS Semester ke - 6: 19\n",
      "IPK : 3.95\n",
      "Nilai mutu semester ke - 7: 80\n",
      "jumlah SKS Semester ke - 7: 20\n",
      "IPK : 4.00\n",
      "Nilai mutu semester ke - 8: 32\n",
      "jumlah SKS Semester ke - 8: 8\n",
      "IPK : 4.00\n",
      "IPK Total : 3.82\n"
     ]
    }
   ],
   "source": [
    "Nama = input(\"Masukkan nama anda: \")\n",
    "SKSs = 0\n",
    "Nilais = 0\n",
    "counter = 0\n",
    "n = int(input(\"Masukkan Jumlah Semester Anda : \")) #Jumlah semester yang telah ditempuh\n",
    "\n",
    "#algoritma\n",
    "while counter <= n-1:\n",
    "    nilai = float(input(\"Nilai mutu semester ke - {}: \".format(counter+1))) #Nilai Mutu tiap semester\n",
    "    sks = float(input(\"jumlah SKS Semester ke - {}: \".format(counter+1))) #jumlah sks(Kredit) tiap semester\n",
    "    IPK = nilai/sks #IPK tiap semester\n",
    "    print(\"IPK : %.2f\" % IPK)\n",
    "    SKSs = SKSs+sks #Jumlah SKS kumulatif (jumlah total sks)\n",
    "    Nilais = Nilais + nilai #Nilai Mutu kumulatif (jumlah total nilai mutu)\n",
    "    IPKs = Nilais/SKSs #IPK total (nilai mutu rata-rata-rata kumulatif)\n",
    "    counter = counter+1\n",
    "\n",
    "print(\"IPK Total : %.2f\" % IPKs  )"
   ]
  },
  {
   "cell_type": "markdown",
   "metadata": {},
   "source": [
    "# Output to File Text"
   ]
  },
  {
   "cell_type": "code",
   "execution_count": 20,
   "metadata": {},
   "outputs": [
    {
     "name": "stdout",
     "output_type": "stream",
     "text": [
      "Masukkan nama anda: Fedy Rahmatullah\n",
      "Masukkan Jumlah Semester Anda : 2\n",
      "Nilai mutu semester ke - 1: 74\n",
      "jumlah SKS Semester ke - 1: 20\n",
      "Nilai mutu semester ke - 2: 77\n",
      "jumlah SKS Semester ke - 2: 20\n"
     ]
    }
   ],
   "source": [
    "import sys\n",
    "# sys.stdout = open('Teks.txt','wt')\n",
    "Nama = input(\"Masukkan nama anda: \")\n",
    "sys.stdout = open('{}_IPK.txt'.format(Nama), 'wt') #akan menjadi file .txt dengan nama \"nama_IPK\" ex: Fedy Rahmatullah_IPK\n",
    "print(\"Nama anda : {}\".format(Nama))\n",
    "SKSs = 0\n",
    "Nilais = 0\n",
    "counter = 0\n",
    "n = int(input(\"Masukkan Jumlah Semester Anda : \")) #Jumlah semester yang telah ditempuh\n",
    "\n",
    "#algoritma\n",
    "while counter <= n-1:\n",
    "    nilai = float(input(\"Nilai mutu semester ke - {}: \".format(counter+1))) #Nilai Mutu tiap semester\n",
    "    print(\"Nilai mutu semester ke - {}: {}\".format(counter+1,nilai))\n",
    "    sks = float(input(\"jumlah SKS Semester ke - {}: \".format(counter+1))) #jumlah sks(Kredit) tiap semester\n",
    "    IPK = nilai/sks #IPK tiap semester\n",
    "    print(\"jumlah SKS Semester ke - {}: {}\".format(counter+1,sks))\n",
    "    print(\"IPK : %.2f\" % IPK)\n",
    "    SKSs = SKSs+sks #Jumlah SKS kumulatif (jumlah total sks)\n",
    "    Nilais = Nilais + nilai #Nilai Mutu kumulatif (jumlah total nilai mutu)\n",
    "    IPKs = Nilais/SKSs #IPK total (nilai mutu rata-rata-rata kumulatif)\n",
    "    counter = counter+1\n",
    "\n",
    "print(\"IPK Total : %.2f\" % IPKs  )"
   ]
  },
  {
   "cell_type": "markdown",
   "metadata": {},
   "source": [
    "© Copyright 2021 - Fedy Rahmatullah"
   ]
  }
 ],
 "metadata": {
  "kernelspec": {
   "display_name": "Python 3",
   "language": "python",
   "name": "python3"
  },
  "language_info": {
   "codemirror_mode": {
    "name": "ipython",
    "version": 3
   },
   "file_extension": ".py",
   "mimetype": "text/x-python",
   "name": "python",
   "nbconvert_exporter": "python",
   "pygments_lexer": "ipython3",
   "version": "3.8.0"
  }
 },
 "nbformat": 4,
 "nbformat_minor": 4
}
