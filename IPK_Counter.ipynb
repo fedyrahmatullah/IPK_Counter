{
 "cells": [
  {
   "cell_type": "markdown",
   "metadata": {},
   "source": [
    "# IPK Counter / GPA Counter"
   ]
  },
  {
   "cell_type": "markdown",
   "metadata": {},
   "source": [
    "This application is made to calculate a student's GPA score each semester and the student's total GPA scores. Currently this application is only in accordance with the GPA value at the State Polytechnic of Jember."
   ]
  },
  {
   "cell_type": "markdown",
   "metadata": {},
   "source": [
    "# IPK show only"
   ]
  },
  {
   "cell_type": "markdown",
   "metadata": {},
   "source": [
    "If you want to count your final GPA without export it into txt file, use this code."
   ]
  },
  {
   "cell_type": "code",
   "execution_count": 1,
   "metadata": {},
   "outputs": [
    {
     "name": "stdout",
     "output_type": "stream",
     "text": [
      "Masukkan nama anda: Fernando Farista Ahmad\n",
      "Masukkan Jumlah Semester Anda : 8\n",
      "Nilai mutu semester ke - 1: 77\n",
      "jumlah SKS Semester ke - 1: 20\n",
      "IPK : 3.85\n",
      "Nilai mutu semester ke - 2: 74\n",
      "jumlah SKS Semester ke - 2: 20\n",
      "IPK : 3.70\n",
      "Nilai mutu semester ke - 3: 66\n",
      "jumlah SKS Semester ke - 3: 18\n",
      "IPK : 3.67\n",
      "Nilai mutu semester ke - 4: 72\n",
      "jumlah SKS Semester ke - 4: 19\n",
      "IPK : 3.79\n",
      "Nilai mutu semester ke - 5: 66\n",
      "jumlah SKS Semester ke - 5: 20\n",
      "IPK : 3.30\n",
      "Nilai mutu semester ke - 6: 67.5\n",
      "jumlah SKS Semester ke - 6: 19\n",
      "IPK : 3.55\n",
      "Nilai mutu semester ke - 7: 80\n",
      "jumlah SKS Semester ke - 7: 20\n",
      "IPK : 4.00\n",
      "Nilai mutu semester ke - 8: 32\n",
      "jumlah SKS Semester ke - 8: 8\n",
      "IPK : 4.00\n",
      "IPK Total : 3.71\n"
     ]
    }
   ],
   "source": [
    "Nama = input(\"Masukkan nama anda: \")\n",
    "SKSs = 0\n",
    "Nilais = 0\n",
    "counter = 0\n",
    "n = int(input(\"Masukkan Jumlah Semester Anda : \")) #Jumlah semester yang telah ditempuh\n",
    "\n",
    "#algoritma\n",
    "while counter <= n-1:\n",
    "    nilai = float(input(\"Nilai mutu semester ke - {}: \".format(counter+1))) #Nilai Mutu tiap semester\n",
    "    sks = float(input(\"jumlah SKS Semester ke - {}: \".format(counter+1))) #jumlah sks(Kredit) tiap semester\n",
    "    IPK = nilai/sks #IPK tiap semester\n",
    "    print(\"IPK : %.2f\" % IPK)\n",
    "    SKSs = SKSs+sks #Jumlah SKS kumulatif (jumlah total sks)\n",
    "    Nilais = Nilais + nilai #Nilai Mutu kumulatif (jumlah total nilai mutu)\n",
    "    IPKs = Nilais/SKSs #IPK total (nilai mutu rata-rata-rata kumulatif)\n",
    "    counter = counter+1\n",
    "\n",
    "print(\"IPK Total : %.2f\" % IPKs  )"
   ]
  },
  {
   "cell_type": "markdown",
   "metadata": {},
   "source": [
    "# Output to File Text"
   ]
  },
  {
   "cell_type": "markdown",
   "metadata": {},
   "source": [
    "If you want to count your final GPA and export it into txt file, use this code."
   ]
  },
  {
   "cell_type": "code",
   "execution_count": 42,
   "metadata": {},
   "outputs": [
    {
     "name": "stdout",
     "output_type": "stream",
     "text": [
      "Masukkan nama anda: Test_nama\n",
      "Masukkan Jumlah Semester Anda : 2\n",
      "Nilai mutu semester ke - 1: 74\n",
      "jumlah SKS Semester ke - 1: 20\n",
      "Nilai mutu semester ke - 2: 77\n",
      "jumlah SKS Semester ke - 2: 20\n"
     ]
    }
   ],
   "source": [
    "import sys\n",
    "# sys.stdout = open('Teks.txt','wt')\n",
    "Nama = input(\"Masukkan nama anda: \")\n",
    "sys.stdout = open('{}_IPK.txt'.format(Nama), 'wt') #akan menjadi file .txt dengan nama \"nama_IPK\" ex: Fedy Rahmatullah_IPK\n",
    "print(\"Nama anda: {}\".format(Nama))\n",
    "SKSs = 0\n",
    "Nilais = 0\n",
    "counter = 0\n",
    "n = int(input(\"Masukkan Jumlah Semester Anda : \")) #Jumlah semester yang telah ditempuh\n",
    "\n",
    "#algoritma\n",
    "while counter <= n-1:\n",
    "    nilai = float(input(\"Nilai mutu semester ke - {}: \".format(counter+1))) #Nilai Mutu tiap semester\n",
    "    print(\"Nilai mutu semester ke - {}: {}\".format(counter+1,nilai))\n",
    "    sks = float(input(\"jumlah SKS Semester ke - {}: \".format(counter+1))) #jumlah sks(Kredit) tiap semester\n",
    "    IPK = nilai/sks #IPK tiap semester\n",
    "    print(\"jumlah SKS Semester ke - {}: {}\".format(counter+1,sks))\n",
    "    print(\"IPK : %.2f\" % IPK)\n",
    "    SKSs = SKSs+sks #Jumlah SKS kumulatif (jumlah total sks)\n",
    "    Nilais = Nilais + nilai #Nilai Mutu kumulatif (jumlah total nilai mutu)\n",
    "    IPKs = Nilais/SKSs #IPK total (nilai mutu rata-rata-rata kumulatif)\n",
    "    counter = counter+1\n",
    "\n",
    "print(\"IPK Total : %.2f\" % IPKs  )"
   ]
  },
  {
   "cell_type": "code",
   "execution_count": 43,
   "metadata": {},
   "outputs": [
    {
     "data": {
      "text/html": [
       "<div>\n",
       "<style scoped>\n",
       "    .dataframe tbody tr th:only-of-type {\n",
       "        vertical-align: middle;\n",
       "    }\n",
       "\n",
       "    .dataframe tbody tr th {\n",
       "        vertical-align: top;\n",
       "    }\n",
       "\n",
       "    .dataframe thead th {\n",
       "        text-align: right;\n",
       "    }\n",
       "</style>\n",
       "<table border=\"1\" class=\"dataframe\">\n",
       "  <thead>\n",
       "    <tr style=\"text-align: right;\">\n",
       "      <th></th>\n",
       "      <th>Keterangan</th>\n",
       "      <th>Nilai</th>\n",
       "    </tr>\n",
       "  </thead>\n",
       "  <tbody>\n",
       "    <tr>\n",
       "      <th>0</th>\n",
       "      <td>Nilai mutu semester ke - 1</td>\n",
       "      <td>74.00</td>\n",
       "    </tr>\n",
       "    <tr>\n",
       "      <th>1</th>\n",
       "      <td>jumlah SKS Semester ke - 1</td>\n",
       "      <td>20.00</td>\n",
       "    </tr>\n",
       "    <tr>\n",
       "      <th>2</th>\n",
       "      <td>IPK</td>\n",
       "      <td>3.70</td>\n",
       "    </tr>\n",
       "    <tr>\n",
       "      <th>3</th>\n",
       "      <td>Nilai mutu semester ke - 2</td>\n",
       "      <td>77.00</td>\n",
       "    </tr>\n",
       "    <tr>\n",
       "      <th>4</th>\n",
       "      <td>jumlah SKS Semester ke - 2</td>\n",
       "      <td>20.00</td>\n",
       "    </tr>\n",
       "    <tr>\n",
       "      <th>5</th>\n",
       "      <td>IPK</td>\n",
       "      <td>3.85</td>\n",
       "    </tr>\n",
       "    <tr>\n",
       "      <th>6</th>\n",
       "      <td>IPK Total</td>\n",
       "      <td>3.77</td>\n",
       "    </tr>\n",
       "  </tbody>\n",
       "</table>\n",
       "</div>"
      ],
      "text/plain": [
       "                   Keterangan  Nilai\n",
       "0  Nilai mutu semester ke - 1  74.00\n",
       "1  jumlah SKS Semester ke - 1  20.00\n",
       "2                        IPK    3.70\n",
       "3  Nilai mutu semester ke - 2  77.00\n",
       "4  jumlah SKS Semester ke - 2  20.00\n",
       "5                        IPK    3.85\n",
       "6                  IPK Total    3.77"
      ]
     },
     "execution_count": 43,
     "metadata": {},
     "output_type": "execute_result"
    }
   ],
   "source": [
    "import pandas as pd\n",
    "data = pd.read_csv('{}_IPK.txt'.format(Nama), sep=\":\")\n",
    "data.columns = [\"Keterangan\", \"Nilai\"]\n",
    "data"
   ]
  },
  {
   "cell_type": "code",
   "execution_count": 27,
   "metadata": {},
   "outputs": [
    {
     "data": {
      "text/html": [
       "<div>\n",
       "<style scoped>\n",
       "    .dataframe tbody tr th:only-of-type {\n",
       "        vertical-align: middle;\n",
       "    }\n",
       "\n",
       "    .dataframe tbody tr th {\n",
       "        vertical-align: top;\n",
       "    }\n",
       "\n",
       "    .dataframe thead th {\n",
       "        text-align: right;\n",
       "    }\n",
       "</style>\n",
       "<table border=\"1\" class=\"dataframe\">\n",
       "  <thead>\n",
       "    <tr style=\"text-align: right;\">\n",
       "      <th></th>\n",
       "      <th>Nama anda : Fedy Rahmatullah</th>\n",
       "    </tr>\n",
       "  </thead>\n",
       "  <tbody>\n",
       "    <tr>\n",
       "      <th>0</th>\n",
       "      <td>Nilai mutu semester ke - 1: 74.0</td>\n",
       "    </tr>\n",
       "    <tr>\n",
       "      <th>1</th>\n",
       "      <td>jumlah SKS Semester ke - 1: 20.0</td>\n",
       "    </tr>\n",
       "    <tr>\n",
       "      <th>2</th>\n",
       "      <td>IPK : 3.70</td>\n",
       "    </tr>\n",
       "    <tr>\n",
       "      <th>3</th>\n",
       "      <td>Nilai mutu semester ke - 2: 77.0</td>\n",
       "    </tr>\n",
       "    <tr>\n",
       "      <th>4</th>\n",
       "      <td>jumlah SKS Semester ke - 2: 20.0</td>\n",
       "    </tr>\n",
       "    <tr>\n",
       "      <th>5</th>\n",
       "      <td>IPK : 3.85</td>\n",
       "    </tr>\n",
       "    <tr>\n",
       "      <th>6</th>\n",
       "      <td>IPK Total : 3.77</td>\n",
       "    </tr>\n",
       "  </tbody>\n",
       "</table>\n",
       "</div>"
      ],
      "text/plain": [
       "       Nama anda : Fedy Rahmatullah\n",
       "0  Nilai mutu semester ke - 1: 74.0\n",
       "1  jumlah SKS Semester ke - 1: 20.0\n",
       "2                        IPK : 3.70\n",
       "3  Nilai mutu semester ke - 2: 77.0\n",
       "4  jumlah SKS Semester ke - 2: 20.0\n",
       "5                        IPK : 3.85\n",
       "6                  IPK Total : 3.77"
      ]
     },
     "execution_count": 27,
     "metadata": {},
     "output_type": "execute_result"
    }
   ],
   "source": [
    "import pandas as pd\n",
    "df = pd.read_csv('Fedy Rahmatullah_IPK.txt', delimiter = \"\\t\")\n",
    "df"
   ]
  },
  {
   "cell_type": "code",
   "execution_count": 34,
   "metadata": {},
   "outputs": [
    {
     "data": {
      "text/html": [
       "<div>\n",
       "<style scoped>\n",
       "    .dataframe tbody tr th:only-of-type {\n",
       "        vertical-align: middle;\n",
       "    }\n",
       "\n",
       "    .dataframe tbody tr th {\n",
       "        vertical-align: top;\n",
       "    }\n",
       "\n",
       "    .dataframe thead th {\n",
       "        text-align: right;\n",
       "    }\n",
       "</style>\n",
       "<table border=\"1\" class=\"dataframe\">\n",
       "  <thead>\n",
       "    <tr style=\"text-align: right;\">\n",
       "      <th></th>\n",
       "      <th>Keterangan</th>\n",
       "      <th>Nilai</th>\n",
       "    </tr>\n",
       "  </thead>\n",
       "  <tbody>\n",
       "    <tr>\n",
       "      <th>0</th>\n",
       "      <td>Nilai mutu semester ke - 1</td>\n",
       "      <td>74.00</td>\n",
       "    </tr>\n",
       "    <tr>\n",
       "      <th>1</th>\n",
       "      <td>jumlah SKS Semester ke - 1</td>\n",
       "      <td>20.00</td>\n",
       "    </tr>\n",
       "    <tr>\n",
       "      <th>2</th>\n",
       "      <td>IPK</td>\n",
       "      <td>3.70</td>\n",
       "    </tr>\n",
       "    <tr>\n",
       "      <th>3</th>\n",
       "      <td>Nilai mutu semester ke - 2</td>\n",
       "      <td>77.00</td>\n",
       "    </tr>\n",
       "    <tr>\n",
       "      <th>4</th>\n",
       "      <td>jumlah SKS Semester ke - 2</td>\n",
       "      <td>20.00</td>\n",
       "    </tr>\n",
       "    <tr>\n",
       "      <th>5</th>\n",
       "      <td>IPK</td>\n",
       "      <td>3.85</td>\n",
       "    </tr>\n",
       "    <tr>\n",
       "      <th>6</th>\n",
       "      <td>IPK Total</td>\n",
       "      <td>3.77</td>\n",
       "    </tr>\n",
       "  </tbody>\n",
       "</table>\n",
       "</div>"
      ],
      "text/plain": [
       "                   Keterangan  Nilai\n",
       "0  Nilai mutu semester ke - 1  74.00\n",
       "1  jumlah SKS Semester ke - 1  20.00\n",
       "2                        IPK    3.70\n",
       "3  Nilai mutu semester ke - 2  77.00\n",
       "4  jumlah SKS Semester ke - 2  20.00\n",
       "5                        IPK    3.85\n",
       "6                  IPK Total    3.77"
      ]
     },
     "execution_count": 34,
     "metadata": {},
     "output_type": "execute_result"
    }
   ],
   "source": [
    "data = pd.read_csv('Fedy Rahmatullah_IPK.txt', sep=\":\")\n",
    "data.columns = [\"Keterangan\", \"Nilai\"]\n",
    "data"
   ]
  },
  {
   "cell_type": "markdown",
   "metadata": {},
   "source": [
    "# Fixed up the code for show it on DataFrame"
   ]
  },
  {
   "cell_type": "code",
   "execution_count": 2,
   "metadata": {},
   "outputs": [
    {
     "name": "stdout",
     "output_type": "stream",
     "text": [
      "Masukkan nama anda: Romi Septian Wahyu Ilahi\n",
      "Masukkan Jumlah Semester Anda : 8\n",
      "Nilai mutu semester ke - 1: 74\n",
      "jumlah SKS Semester ke - 1: 20\n",
      "Nilai mutu semester ke - 2: 74\n",
      "jumlah SKS Semester ke - 2: 20\n",
      "Nilai mutu semester ke - 3: 71\n",
      "jumlah SKS Semester ke - 3: 18\n",
      "Nilai mutu semester ke - 4: 71.5\n",
      "jumlah SKS Semester ke - 4: 19\n",
      "Nilai mutu semester ke - 5: 68\n",
      "jumlah SKS Semester ke - 5: 20\n",
      "Nilai mutu semester ke - 6: 71\n",
      "jumlah SKS Semester ke - 6: 19\n",
      "Nilai mutu semester ke - 7: 80\n",
      "jumlah SKS Semester ke - 7: 20\n",
      "Nilai mutu semester ke - 8: 31\n",
      "jumlah SKS Semester ke - 8: 8\n"
     ]
    }
   ],
   "source": [
    "import sys\n",
    "\n",
    "Nama = input(\"Masukkan nama anda: \")\n",
    "sys.stdout = open('./Data/{}_IPK.txt'.format(Nama), 'wt') #akan menjadi file .txt dengan nama \"nama_IPK\" ex: Fedy Rahmatullah_IPK\n",
    "# print(\"Nama anda: {}\".format(Nama))\n",
    "SKSs = 0\n",
    "Nilais = 0\n",
    "counter = 0\n",
    "n = int(input(\"Masukkan Jumlah Semester Anda : \")) #Jumlah semester yang telah ditempuh\n",
    "\n",
    "#algoritma\n",
    "while counter <= n-1:\n",
    "    nilai = float(input(\"Nilai mutu semester ke - {}: \".format(counter+1))) #Nilai Mutu tiap semester\n",
    "#     print(\"Nilai mutu semester ke - {}: {}\".format(counter+1,nilai))\n",
    "    sks = float(input(\"jumlah SKS Semester ke - {}: \".format(counter+1))) #jumlah sks(Kredit) tiap semester\n",
    "    IPK = nilai/sks #IPK tiap semester\n",
    "#     print(\"jumlah SKS Semester ke - {}: {}\".format(counter+1,sks))\n",
    "#     print(\"IPK : %.2f\" % IPK)\n",
    "    SKSs = SKSs+sks #Jumlah SKS kumulatif (jumlah total sks)\n",
    "    Nilais = Nilais + nilai #Nilai Mutu kumulatif (jumlah total nilai mutu)\n",
    "    IPKs = Nilais/SKSs #IPK total (nilai mutu rata-rata-rata kumulatif)\n",
    "    counter = counter+1\n",
    "    print(counter,nilai,sks,\"%.2f\"%IPK,\"%.2f\"%IPKs, sep=\",\")\n",
    "\n",
    "# print(\"IPK Total : %.2f\" % IPKs  )"
   ]
  },
  {
   "cell_type": "code",
   "execution_count": 3,
   "metadata": {},
   "outputs": [
    {
     "data": {
      "text/html": [
       "<div>\n",
       "<style scoped>\n",
       "    .dataframe tbody tr th:only-of-type {\n",
       "        vertical-align: middle;\n",
       "    }\n",
       "\n",
       "    .dataframe tbody tr th {\n",
       "        vertical-align: top;\n",
       "    }\n",
       "\n",
       "    .dataframe thead th {\n",
       "        text-align: right;\n",
       "    }\n",
       "</style>\n",
       "<table border=\"1\" class=\"dataframe\">\n",
       "  <thead>\n",
       "    <tr style=\"text-align: right;\">\n",
       "      <th></th>\n",
       "      <th>Semester</th>\n",
       "      <th>Nilai Mutu</th>\n",
       "      <th>SKS</th>\n",
       "      <th>IPK</th>\n",
       "      <th>IPK Kumulatif</th>\n",
       "    </tr>\n",
       "  </thead>\n",
       "  <tbody>\n",
       "    <tr>\n",
       "      <th>0</th>\n",
       "      <td>1</td>\n",
       "      <td>74.0</td>\n",
       "      <td>20.0</td>\n",
       "      <td>3.70</td>\n",
       "      <td>3.70</td>\n",
       "    </tr>\n",
       "    <tr>\n",
       "      <th>1</th>\n",
       "      <td>2</td>\n",
       "      <td>74.0</td>\n",
       "      <td>20.0</td>\n",
       "      <td>3.70</td>\n",
       "      <td>3.70</td>\n",
       "    </tr>\n",
       "    <tr>\n",
       "      <th>2</th>\n",
       "      <td>3</td>\n",
       "      <td>71.0</td>\n",
       "      <td>18.0</td>\n",
       "      <td>3.94</td>\n",
       "      <td>3.78</td>\n",
       "    </tr>\n",
       "    <tr>\n",
       "      <th>3</th>\n",
       "      <td>4</td>\n",
       "      <td>71.5</td>\n",
       "      <td>19.0</td>\n",
       "      <td>3.76</td>\n",
       "      <td>3.77</td>\n",
       "    </tr>\n",
       "    <tr>\n",
       "      <th>4</th>\n",
       "      <td>5</td>\n",
       "      <td>68.0</td>\n",
       "      <td>20.0</td>\n",
       "      <td>3.40</td>\n",
       "      <td>3.70</td>\n",
       "    </tr>\n",
       "    <tr>\n",
       "      <th>5</th>\n",
       "      <td>6</td>\n",
       "      <td>71.0</td>\n",
       "      <td>19.0</td>\n",
       "      <td>3.74</td>\n",
       "      <td>3.70</td>\n",
       "    </tr>\n",
       "    <tr>\n",
       "      <th>6</th>\n",
       "      <td>7</td>\n",
       "      <td>80.0</td>\n",
       "      <td>20.0</td>\n",
       "      <td>4.00</td>\n",
       "      <td>3.75</td>\n",
       "    </tr>\n",
       "    <tr>\n",
       "      <th>7</th>\n",
       "      <td>8</td>\n",
       "      <td>31.0</td>\n",
       "      <td>8.0</td>\n",
       "      <td>3.88</td>\n",
       "      <td>3.75</td>\n",
       "    </tr>\n",
       "  </tbody>\n",
       "</table>\n",
       "</div>"
      ],
      "text/plain": [
       "   Semester  Nilai Mutu   SKS   IPK  IPK Kumulatif\n",
       "0         1        74.0  20.0  3.70           3.70\n",
       "1         2        74.0  20.0  3.70           3.70\n",
       "2         3        71.0  18.0  3.94           3.78\n",
       "3         4        71.5  19.0  3.76           3.77\n",
       "4         5        68.0  20.0  3.40           3.70\n",
       "5         6        71.0  19.0  3.74           3.70\n",
       "6         7        80.0  20.0  4.00           3.75\n",
       "7         8        31.0   8.0  3.88           3.75"
      ]
     },
     "execution_count": 3,
     "metadata": {},
     "output_type": "execute_result"
    }
   ],
   "source": [
    "import pandas as pd\n",
    "\n",
    "data = pd.read_csv('./Data/{}_IPK.txt'.format(Nama), sep=\",\", header=None)\n",
    "data.columns = [\"Semester\",\"Nilai Mutu\",\"SKS\",\"IPK\",\"IPK Kumulatif\"]\n",
    "\n",
    "data"
   ]
  },
  {
   "cell_type": "code",
   "execution_count": 4,
   "metadata": {},
   "outputs": [
    {
     "data": {
      "image/png": "[encoded data removed]",
      "text/plain": [
       "<Figure size 432x288 with 1 Axes>"
      ]
     },
     "metadata": {
      "needs_background": "light"
     },
     "output_type": "display_data"
    }
   ],
   "source": [
    "import matplotlib.pyplot as plt\n",
    "\n",
    "y = data['IPK']\n",
    "x = data['Semester']\n",
    "plt.plot(x, y)\n",
    "\n",
    "plt.xlabel('Semester')\n",
    "plt.ylabel('IPK')\n",
    "\n",
    "plt.title('Grafik IPK {} tiap Semester'.format(Nama))\n",
    "plt.grid(True)\n",
    "\n",
    "\n",
    "for x,y in zip(x,y): #to make data label on chart\n",
    "\n",
    "    label = \"{:.2f}\".format(y)\n",
    "\n",
    "    plt.annotate(label, # this is the text\n",
    "                 (x,y), # these are the coordinates to position the label\n",
    "                 textcoords=\"offset points\", # how to position the text\n",
    "                 xytext=(0,10), # distance from text to points (x,y)\n",
    "                 ha='center') # horizontal alignment can be left, right or center\n",
    "plt.show()"
   ]
  },
  {
   "cell_type": "code",
   "execution_count": 6,
   "metadata": {},
   "outputs": [
    {
     "data": {
      "image/png": "[encoded data removed]",
      "text/plain": [
       "<Figure size 432x288 with 1 Axes>"
      ]
     },
     "metadata": {
      "needs_background": "light"
     },
     "output_type": "display_data"
    }
   ],
   "source": [
    "import matplotlib.pyplot as plt\n",
    "\n",
    "y = data['IPK Kumulatif']\n",
    "x = data['Semester']\n",
    "plt.plot(x, y)\n",
    "\n",
    "plt.xlabel('Semester')\n",
    "plt.ylabel('IPK Kumulatif')\n",
    "\n",
    "plt.title('Grafik IPK Kumulatif {} tiap Semester'.format(Nama))\n",
    "plt.grid(True)\n",
    "\n",
    "\n",
    "for x,y in zip(x,y): #to make data label on chart\n",
    "\n",
    "    label = \"{:.2f}\".format(y)\n",
    "\n",
    "    plt.annotate(label, # this is the text\n",
    "                 (x,y), # these are the coordinates to position the label\n",
    "                 textcoords=\"offset points\", # how to position the text\n",
    "                 xytext=(0,10), # distance from text to points (x,y)\n",
    "                 ha='center') # horizontal alignment can be left, right or center\n",
    "plt.show()"
   ]
  },
  {
   "cell_type": "markdown",
   "metadata": {},
   "source": [
    "© Copyright 2021 - Fedy Rahmatullah"
   ]
  }
 ],
 "metadata": {
  "kernelspec": {
   "display_name": "Python 3",
   "language": "python",
   "name": "python3"
  },
  "language_info": {
   "codemirror_mode": {
    "name": "ipython",
    "version": 3
   },
   "file_extension": ".py",
   "mimetype": "text/x-python",
   "name": "python",
   "nbconvert_exporter": "python",
   "pygments_lexer": "ipython3",
   "version": "3.8.0"
  }
 },
 "nbformat": 4,
 "nbformat_minor": 4
}
